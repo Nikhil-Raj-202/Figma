{
  "nbformat": 4,
  "nbformat_minor": 0,
  "metadata": {
    "colab": {
      "provenance": [],
      "authorship_tag": "ABX9TyPr8Mq1g2LOtOCd5SoBbVhh",
      "include_colab_link": true
    },
    "kernelspec": {
      "name": "python3",
      "display_name": "Python 3"
    },
    "language_info": {
      "name": "python"
    }
  },
  "cells": [
    {
      "cell_type": "markdown",
      "metadata": {
        "id": "view-in-github",
        "colab_type": "text"
      },
      "source": [
        "<a href=\"https://colab.research.google.com/github/Nikhil-Raj-202/Figma/blob/main/Reinforcement_Learning.ipynb\" target=\"_parent\"><img src=\"https://colab.research.google.com/assets/colab-badge.svg\" alt=\"Open In Colab\"/></a>"
      ]
    },
    {
      "cell_type": "code",
      "execution_count": null,
      "metadata": {
        "id": "Upsix6OjPSM3"
      },
      "outputs": [],
      "source": [
        "import numpy as np\n",
        "import time\n",
        "\n",
        "grid_size = 5\n",
        "q_table = np.zeros((grid_size, 2))\n",
        "\n",
        "alpha = 0.1\n",
        "gamma = 0.9\n",
        "epsilon = 0.2\n",
        "episodes = 500"
      ]
    },
    {
      "cell_type": "code",
      "source": [
        "for _ in range(episodes):\n",
        "    state = 0\n",
        "    while state < grid_size - 1:\n",
        "        if np.random.rand() < epsilon:\n",
        "            action = np.random.choice([0,1])\n",
        "        else:\n",
        "            action = np.argmax(q_table[state])\n",
        "\n",
        "        next_state = state + 1 if action == 1 else max(0, state - 1)\n",
        "\n",
        "        reward = 1 if next_state == grid_size - 1 else 0.1\n",
        "\n",
        "        q_table[state, action] += alpha * (reward + gamma * np.max(q_table[next_state]) - q_table[state, action])\n",
        "\n",
        "        state = next_state\n",
        "\n",
        "state = 0\n",
        "\n",
        "for step in range(grid_size - 1):\n",
        "\n",
        "  grid = [\"⬜\"] * grid_size\n",
        "  grid[state] = \"🤖\"\n",
        "  grid[-1] = \"🍿\"\n",
        "\n",
        "  print(f\"Step {step} : {' '.join(grid)}\")\n",
        "  time.sleep(0.5)\n",
        "\n",
        "  action = np.argmax(q_table[state])\n",
        "  state = state + 1 if action == 1 else max(0, state - 1)\n",
        "\n",
        "grid = [\"⬜\"] * grid_size\n",
        "grid[-2] = \"⬜\"\n",
        "grid[-1] = \"🤖🍿\"\n",
        "print(f\"Step {grid_size - 1} : {' '.join(grid)}\")\n",
        "\n",
        "\n"
      ],
      "metadata": {
        "id": "TVy8-yGeR8sM",
        "colab": {
          "base_uri": "https://localhost:8080/"
        },
        "outputId": "558ad1bd-1802-47e6-ce8a-f02e917ed016"
      },
      "execution_count": 8,
      "outputs": [
        {
          "output_type": "stream",
          "name": "stdout",
          "text": [
            "Step 0 : 🤖 ⬜ ⬜ ⬜ 🍿\n",
            "Step 1 : ⬜ 🤖 ⬜ ⬜ 🍿\n",
            "Step 2 : ⬜ ⬜ 🤖 ⬜ 🍿\n",
            "Step 3 : ⬜ ⬜ ⬜ 🤖 🍿\n",
            "Step 4 : ⬜ ⬜ ⬜ ⬜ 🤖🍿\n"
          ]
        }
      ]
    }
  ]
}